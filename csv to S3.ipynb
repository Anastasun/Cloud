{
 "cells": [
  {
   "cell_type": "code",
   "execution_count": 14,
   "id": "775fd3a5",
   "metadata": {},
   "outputs": [],
   "source": [
    "\n",
    "import boto3\n",
    "\n",
    "client = boto3.client(\"s3\")\n",
    "client.upload_file(\"hriv.csv\", \"mybackmu\", \"ExchangeRate\")"
   ]
  },
  {
   "cell_type": "code",
   "execution_count": null,
   "id": "1f39b1f5",
   "metadata": {},
   "outputs": [],
   "source": []
  },
  {
   "cell_type": "code",
   "execution_count": null,
   "id": "cc25d5ac",
   "metadata": {},
   "outputs": [],
   "source": []
  }
 ],
 "metadata": {
  "kernelspec": {
   "display_name": "Python 3 (ipykernel)",
   "language": "python",
   "name": "python3"
  },
  "language_info": {
   "codemirror_mode": {
    "name": "ipython",
    "version": 3
   },
   "file_extension": ".py",
   "mimetype": "text/x-python",
   "name": "python",
   "nbconvert_exporter": "python",
   "pygments_lexer": "ipython3",
   "version": "3.10.6"
  }
 },
 "nbformat": 4,
 "nbformat_minor": 5
}
