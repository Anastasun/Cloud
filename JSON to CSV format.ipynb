{
 "cells": [
  {
   "cell_type": "code",
   "execution_count": 13,
   "id": "c2fcb529",
   "metadata": {},
   "outputs": [],
   "source": [
    "import json\n",
    "import csv\n",
    "\n",
    "with open(\"exchange.json\") as f:\n",
    "    dataf = json.load(f)\n",
    " \n",
    "data_file = open('hriv.csv', 'w', newline='')\n",
    "csv_writer = csv.writer(data_file)\n",
    " \n",
    "count = 0\n",
    "for data in dataf:\n",
    "    if count == 0:\n",
    "        header = data.keys()\n",
    "        csv_writer.writerow(header)\n",
    "        count += 1\n",
    "    csv_writer.writerow(data.values())\n",
    " \n",
    "data_file.close()"
   ]
  },
  {
   "cell_type": "code",
   "execution_count": null,
   "id": "01bba318",
   "metadata": {},
   "outputs": [],
   "source": []
  },
  {
   "cell_type": "code",
   "execution_count": null,
   "id": "e064efbd",
   "metadata": {},
   "outputs": [],
   "source": []
  }
 ],
 "metadata": {
  "kernelspec": {
   "display_name": "Python 3 (ipykernel)",
   "language": "python",
   "name": "python3"
  },
  "language_info": {
   "codemirror_mode": {
    "name": "ipython",
    "version": 3
   },
   "file_extension": ".py",
   "mimetype": "text/x-python",
   "name": "python",
   "nbconvert_exporter": "python",
   "pygments_lexer": "ipython3",
   "version": "3.10.6"
  }
 },
 "nbformat": 4,
 "nbformat_minor": 5
}
